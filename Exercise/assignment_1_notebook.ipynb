{
  "nbformat": 4,
  "nbformat_minor": 0,
  "metadata": {
    "accelerator": "GPU",
    "colab": {
      "name": "assignment_1_notebook.ipynb",
      "provenance": [],
      "collapsed_sections": [],
      "toc_visible": true
    },
    "file_extension": ".py",
    "kernelspec": {
      "display_name": "Python 3",
      "language": "python",
      "name": "python3"
    },
    "language_info": {
      "codemirror_mode": {
        "name": "ipython",
        "version": 3
      },
      "file_extension": ".py",
      "mimetype": "text/x-python",
      "name": "python",
      "nbconvert_exporter": "python",
      "pygments_lexer": "ipython3",
      "version": "3.7.1"
    },
    "mimetype": "text/x-python",
    "name": "python",
    "npconvert_exporter": "python",
    "pygments_lexer": "ipython3",
    "version": 3
  },
  "cells": [
    {
      "cell_type": "markdown",
      "metadata": {
        "colab_type": "text",
        "id": "v81NrNYlAzIm"
      },
      "source": [
        "# SIT744 Assignment 1: Image Classification with Deep Feedforward Neural Network\n",
        "\n",
        "<div class=\"alert-info\">\n",
        "    <p>Due: <strong>8pm 24 August 2020</strong>  (Monday)</p>\n",
        "\n",
        "\n",
        "This is an <strong>individual</strong> assignment. It contributes <strong>30%</strong> to your final mark. Read the assignment instruction carefully.\n",
        "\n",
        "<h2> What to submit </h2>\n",
        "\n",
        "<p>\n",
        "This assignment is to be completed individually and submitted to CloudDeakin. <strong>By the due date, you are required to submit the following files to the corresponding Assignment (Dropbox) in CloudDeakin</strong>:\n",
        "\n",
        "<ol>\n",
        "<li>\t<strong>[YourID]_assignment1_solution.ipynp</strong>:  This is your Python notebook solution source file. </li>\n",
        "<li>\t<strong>[YourID]_assingment1_output.html</strong>: This is the output of your Python notebook solution <emph>exported</emph> in HTML format.</li>\n",
        "<li>\tExtra files needed to complete your assignment, if any (e.g., images used in your answers).</li>\n",
        "</ol>\n",
        "</p>\n",
        "\n",
        "<p>\n",
        "For example, if your student ID is: 123456, you will then need to submit the following files:\n",
        "<ul>\n",
        "<li> 123456_assignment1_solution.ipynp </li>\n",
        "<li> 123456_assignment1_output.html</li>\n",
        "</ul>\n",
        "</p>\n",
        "\n",
        "<h2> Marking criteria </h2>\n",
        "\n",
        "<p>\n",
        "Your submission will be marked using the following criteria.\n",
        "\n",
        "<ul>\n",
        "<li> Showing good effort through completed tasks.</li>\n",
        "<li> Applying deep learning theory to design suitable deep learning solutions for the tasks.</li>\n",
        "<li> Critically evaluating and reflecting on the pros and cons of various design decisions.</li>\n",
        "<li> Demonstrating creativity and resourcefulness in providing unique individual solutions.</li>\n",
        "<li> Showing attention to details through a good quality assignment report.</li>\n",
        "</ul>\n",
        "</p>\n",
        "\n",
        "<p>\n",
        "Indicative weights of various tasks are provided, but the assignment will be marked by the overall quality per the above criteria.\n",
        "</p>\n",
        "</div>"
      ]
    },
    {
      "cell_type": "markdown",
      "metadata": {
        "colab_type": "text",
        "id": "JOr2bP8kAzKE"
      },
      "source": [
        "## Assignment objective\n",
        "\n",
        "\n",
        "\n",
        "This assignment is for you to demonstrate the knowledge in deep learning that you have acquired from the lectures and practical lab materials. Most tasks in this assignment are straightforward applications of the practical materials in weeks 1-5. Going through these materials before attempting this assignment is highly recommended.\n",
        "\n",
        "In this assignment, you are going to work with the Fashion-MNIST dataset for image recognition. The dataset contains 10 classes of 28x28 grayscale images. You will see some examples in the visualization task below. \n",
        "\n",
        "This assignment consists of five tasks.\n"
      ]
    },
    {
      "cell_type": "markdown",
      "metadata": {
        "colab_type": "text",
        "id": "cDqvFgbRAzKG"
      },
      "source": [
        "## Task 1 Load the data\n",
        "\n",
        "*(weight ~5%)*\n",
        "\n",
        "Load the Fashion MNIST dataset (https://github.com/zalandoresearch/fashion-mnist). You may get the data via Keras (keras.datasets) or Tensorflow Datasets (tfds). "
      ]
    },
    {
      "cell_type": "markdown",
      "metadata": {
        "colab_type": "text",
        "id": "nFbty6i5AzKm"
      },
      "source": [
        "## Task 2 Understand the data\n",
        "\n",
        "*(weight ~15%)*\n",
        "\n"
      ]
    },
    {
      "cell_type": "markdown",
      "metadata": {
        "colab_type": "text",
        "id": "PLYAtx-ZAzKo"
      },
      "source": [
        "Display 100 images from the train set in the form of 10x10 matrix.\n",
        "\n",
        "Answer the following questions:\n",
        "\n",
        "1. What are the unique labels in this dataset?\n",
        "2. How many training images and how many test images?\n",
        "3. What is the size of each image?\n",
        "4. Find out the numeric range of the input. Do we need to rescale the input?\n",
        "5. In our problem, what are the shapes of input tensors and target tensors? Do you need to reshape the input?\n"
      ]
    },
    {
      "cell_type": "markdown",
      "metadata": {
        "colab_type": "text",
        "id": "-tkl-PwsrXip"
      },
      "source": [
        "## Task 3 Construct an input pipeline\n",
        "\n",
        "*(weight ~15%)*\n",
        "\n",
        "Creat train/validate/test data splits and construct tf.data pipelines. Make sure that the training data is batched.\n"
      ]
    },
    {
      "cell_type": "markdown",
      "metadata": {
        "colab_type": "text",
        "id": "lnE7ZFS_AzLg"
      },
      "source": [
        "## Task 4 Construct a deep forward neural network\n",
        "\n",
        "*(weight ~35%)*"
      ]
    },
    {
      "cell_type": "markdown",
      "metadata": {
        "colab_type": "text",
        "id": "ChlhkwhkAzLi"
      },
      "source": [
        "### Task 4.1 Setting up a model for training"
      ]
    },
    {
      "cell_type": "markdown",
      "metadata": {
        "colab_type": "text",
        "id": "yuxhQM6jAzLl"
      },
      "source": [
        "Construct a deep feedforward neural network. You need to decide and report the following configurations:\n",
        "\n",
        "- Output layer: \n",
        "    - How many output nodes?\n",
        "    - Which activation function?\n",
        "- Hidden layers:\n",
        "    - How many hidden layers?\n",
        "    - How many nodes in each layer?\n",
        "    - Which activation function for each layer?\n",
        "- Input layer\n",
        "    - What is the input size?\n",
        "- The loss function\n",
        "- The metrics for model evaluation (which may be different from the loss function)\n",
        "- The optimiser\n",
        "\n",
        "Justify your model design decisions.\n",
        "\n",
        "Plot the model structure `using keras.utils.plot_model` or similar tools."
      ]
    },
    {
      "cell_type": "markdown",
      "metadata": {
        "colab_type": "text",
        "id": "MZ2BVK5tAzMM"
      },
      "source": [
        "### Task 4.2 Fitting the model\n",
        "\n",
        "Now fit the model. Decide and report the following training setting:\n",
        "\n",
        "1. The training batch size\n",
        "2. The number of training epochs (at least 1,000 epochs recommended)\n",
        "3. The learning rate. If you used momentum or a learning rate schedule, please report the configuration as well.\n",
        "\n",
        "Plot the training and validation loss and accuracy. Answer the following questions:\n",
        "\n",
        "1. Do you see overfitting or underfitting? Why?\n",
        "2. If you see overfitting, at which epoch did it happen?"
      ]
    },
    {
      "cell_type": "markdown",
      "metadata": {
        "colab_type": "text",
        "id": "9C2VXCM-4Nw9"
      },
      "source": [
        "### Task 4.3 Check the convergence through gradient\n",
        "\n",
        "Use  TensorBoard to check the gradients. \n",
        "\n",
        "- Do you see vanishing or exploding gradients?\n",
        "- Use the gradient norm to check if the training has converged to a local minimum.\n",
        "\n",
        "Show screenshots of your TensorBoard output."
      ]
    },
    {
      "cell_type": "markdown",
      "metadata": {
        "colab_type": "text",
        "id": "4EgXZCBNAzMs"
      },
      "source": [
        "## Task 5 Fine-tuning the model\n",
        "\n",
        "*(weight ~30%)*\n",
        "\n",
        "You may see above that your model is overfitting. There are multiple things you can do. Below are some options:\n",
        "\n",
        "1. Add dropout\n",
        "2. Add Batch Normalisation\n",
        "3. Add layer-specific weight regularizations\n",
        "4. Change the learning rate\n",
        "\n",
        "Apply different regularisation techniques to the model training. You may also try other techniques for improving training such as learning rate scheduling (see https://www.tensorflow.org/guide/keras/train_and_evaluate#using_learning_rate_schedules).\n",
        "\n",
        "Run **five or more** experiments of different training configurations and record the test accuracy achieved in the Markdown table below. You may modify the table heading to match your experiment design.\n"
      ]
    },
    {
      "cell_type": "markdown",
      "metadata": {
        "colab_type": "text",
        "id": "d1LRIBrEgu92"
      },
      "source": [
        "\n",
        "|Dropout (rate)   | Batch Normalisation (Y/N)  | Optimiser  | Learning Rate  | Number of Epochs   |  Test Accuracy |\n",
        "|---|---|---|---|---|---|\n",
        "|   |   |   |   |   |   |\n",
        "|   |   |   |   |   |   |\n",
        "|   |   |   |   |   |   |\n"
      ]
    },
    {
      "cell_type": "markdown",
      "metadata": {
        "colab_type": "text",
        "id": "dLjJA98Qgxg5"
      },
      "source": [
        "\n",
        "Answer the following questions:\n",
        "\n",
        "1. Which configuration achieved the best test accuracy?\n",
        "2. Which setting had the most impact and which one had the least impact?"
      ]
    },
    {
      "cell_type": "markdown",
      "metadata": {
        "colab_type": "text",
        "id": "UgzZh0jN5ULb"
      },
      "source": [
        "## Task 6 Generate HTML output\n",
        "\n",
        "Use *nbconvert* to convert your completed notebook into an HTML file and name it **[YourID]_assingment1_output.html**."
      ]
    },
    {
      "cell_type": "markdown",
      "metadata": {
        "colab_type": "text",
        "id": "cWbr7jjEAzNb"
      },
      "source": [
        "---\n",
        "**END OF ASSIGNMENT ONE**\n",
        "\n"
      ]
    }
  ]
}