{
  "nbformat": 4,
  "nbformat_minor": 0,
  "metadata": {
    "colab": {
      "name": "OpenCV Intro.ipynb",
      "provenance": [],
      "authorship_tag": "ABX9TyNVaINUBf54Q1UlO3hH9xRO",
      "include_colab_link": true
    },
    "kernelspec": {
      "name": "python3",
      "display_name": "Python 3"
    }
  },
  "cells": [
    {
      "cell_type": "markdown",
      "metadata": {
        "id": "view-in-github",
        "colab_type": "text"
      },
      "source": [
        "<a href=\"https://colab.research.google.com/github/humblefool1997/Data_Science-CV-NLP_Notebooks/blob/master/OpenCV_Intro.ipynb\" target=\"_parent\"><img src=\"https://colab.research.google.com/assets/colab-badge.svg\" alt=\"Open In Colab\"/></a>"
      ]
    },
    {
      "cell_type": "code",
      "metadata": {
        "id": "D1DbCNP8ZEJ7",
        "colab_type": "code",
        "colab": {}
      },
      "source": [
        "import numpy as np\n",
        "import matplotlib.pyplot as plt\n",
        "import matplotlib.image as mpimg\n",
        "from scipy import signal\n",
        "\n",
        "# Part 1\n",
        "def rgb2gray(rgb):\n",
        "    return np.dot(rgb[...,:3], [0.2989, 0.5870, 0.1140])\n",
        "\n",
        "img = mpimg.imread('flower.png')     \n",
        "gray = rgb2gray(img)    \n",
        "plt.imshow(gray, cmap=plt.get_cmap('gray'), vmin=0, vmax=1)\n",
        "plt.show()\n",
        "\n",
        "\n",
        "\n"
      ],
      "execution_count": null,
      "outputs": []
    },
    {
      "cell_type": "code",
      "metadata": {
        "id": "atOQIcy-ZP5W",
        "colab_type": "code",
        "colab": {}
      },
      "source": [
        "# Part 2\n",
        "t = np.linspace(-10, 10, 30)\n",
        "bump = np.exp(-0.1*t**2)\n",
        "bump /= np.trapz(bump) # normalize the integral to 1\n",
        "\n",
        "# make a 2-D kernel out of it\n",
        "kernel = bump[:, np.newaxis] * bump[np.newaxis, :]\n",
        "img3 = signal.fftconvolve(img, kernel[:, :, np.newaxis], mode='same')\n",
        "plt.figure()\n",
        "plt.imshow(img3)"
      ],
      "execution_count": null,
      "outputs": []
    },
    {
      "cell_type": "code",
      "metadata": {
        "id": "KMY8nSfbZOJU",
        "colab_type": "code",
        "colab": {}
      },
      "source": [
        "# Part 3 \n",
        "# method for line detection \n",
        "import cv2 \n",
        "\n",
        "\n",
        "img = cv2.imread('flower.png') \n",
        "\n",
        "# Convert the img to grayscale \n",
        "gray = cv2.cvtColor(img,cv2.COLOR_BGR2GRAY) \n",
        "\n",
        "# Apply edge detection method on the image \n",
        "edges = cv2.Canny(gray,50,150,apertureSize = 3) \n",
        "\n",
        "# This returns an array of r and theta values \n",
        "lines = cv2.HoughLines(edges,1,np.pi/180, 200) \n",
        "\n",
        "for r,theta in lines[0]: \n",
        "\t\n",
        "\t# Stores the value of cos(theta) in a \n",
        "\ta = np.cos(theta) \n",
        "\n",
        "\t# Stores the value of sin(theta) in b \n",
        "\tb = np.sin(theta) \n",
        "\t\n",
        "\t# x0 stores the value rcos(theta) \n",
        "\tx0 = a*r \n",
        "\t\n",
        "\t# y0 stores the value rsin(theta) \n",
        "\ty0 = b*r \n",
        "\t\n",
        "\t# x1 stores the rounded off value of (rcos(theta)-1000sin(theta)) \n",
        "\tx1 = int(x0 + 1000*(-b)) \n",
        "\t\n",
        "\t# y1 stores the rounded off value of (rsin(theta)+1000cos(theta)) \n",
        "\ty1 = int(y0 + 1000*(a)) \n",
        "\n",
        "\t# x2 stores the rounded off value of (rcos(theta)+1000sin(theta)) \n",
        "\tx2 = int(x0 - 1000*(-b)) \n",
        "\t\n",
        "\t# y2 stores the rounded off value of (rsin(theta)-1000cos(theta)) \n",
        "\ty2 = int(y0 - 1000*(a)) \n",
        "\t\n",
        "\t# cv2.line draws a line in img from the point(x1,y1) to (x2,y2). \n",
        "\t# (0,0,255) denotes the colour of the line to be \n",
        "\t#drawn. In this case, it is red. \n",
        "\tcv2.line(img,(x1,y1), (x2,y2), (0,0,255),2) \n",
        "cv2.imwrite('linesDetected.png', img)"
      ],
      "execution_count": null,
      "outputs": []
    }
  ]
}